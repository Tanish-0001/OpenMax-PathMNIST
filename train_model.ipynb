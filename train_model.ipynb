{
 "cells": [
  {
   "cell_type": "code",
   "id": "initial_id",
   "metadata": {
    "collapsed": true,
    "ExecuteTime": {
     "end_time": "2025-02-13T07:25:21.022613Z",
     "start_time": "2025-02-13T07:24:58.376494Z"
    }
   },
   "source": [
    "from tqdm import tqdm\n",
    "import torch\n",
    "import torch.nn as nn\n",
    "import torch.optim as optim\n",
    "import torch.utils.data as data\n",
    "import torchvision.transforms as transforms\n",
    "\n",
    "from medmnist import PathMNIST\n",
    "from medmnist import INFO"
   ],
   "outputs": [],
   "execution_count": 1
  },
  {
   "metadata": {
    "ExecuteTime": {
     "end_time": "2025-02-13T07:25:26.183634Z",
     "start_time": "2025-02-13T07:25:24.816967Z"
    }
   },
   "cell_type": "code",
   "source": [
    "data_transform = transforms.Compose([\n",
    "    transforms.ToTensor(),\n",
    "    transforms.Normalize(mean=[.5], std=[.2])\n",
    "])\n",
    "\n",
    "train_dataset = PathMNIST(split='train', download=True, transform=data_transform)\n",
    "val_dataset = PathMNIST(split='val', download=False, transform=data_transform)\n",
    "test_dataset = PathMNIST(split='test', download=False, transform=data_transform)"
   ],
   "id": "f0a024cb7c11cc52",
   "outputs": [
    {
     "name": "stdout",
     "output_type": "stream",
     "text": [
      "Using downloaded and verified file: C:\\Users\\jaint\\.medmnist\\pathmnist.npz\n"
     ]
    }
   ],
   "execution_count": 2
  },
  {
   "metadata": {
    "ExecuteTime": {
     "end_time": "2025-02-13T07:25:29.282844Z",
     "start_time": "2025-02-13T07:25:29.263541Z"
    }
   },
   "cell_type": "code",
   "source": [
    "info = INFO['pathmnist']  # get some metadata of PathMNIST\n",
    "\n",
    "batch_size = 32\n",
    "n_channels, n_classes = info['n_channels'], len(info['label'])"
   ],
   "id": "5b06ad2fdcf3730b",
   "outputs": [],
   "execution_count": 3
  },
  {
   "metadata": {
    "ExecuteTime": {
     "end_time": "2025-02-13T07:25:38.195480Z",
     "start_time": "2025-02-13T07:25:38.189970Z"
    }
   },
   "cell_type": "code",
   "source": [
    "train_loader = data.DataLoader(dataset=train_dataset, batch_size=batch_size, shuffle=True)\n",
    "val_loader = data.DataLoader(dataset=val_dataset, batch_size=2*batch_size, shuffle=False)\n",
    "test_loader = data.DataLoader(dataset=test_dataset, batch_size=2*batch_size, shuffle=False)"
   ],
   "id": "bd918c65858e0741",
   "outputs": [],
   "execution_count": 4
  },
  {
   "metadata": {
    "ExecuteTime": {
     "end_time": "2025-02-13T07:25:41.275985Z",
     "start_time": "2025-02-13T07:25:41.167377Z"
    }
   },
   "cell_type": "code",
   "source": "print(next(iter(train_loader)))",
   "id": "ea05539e225c49da",
   "outputs": [
    {
     "name": "stdout",
     "output_type": "stream",
     "text": [
      "[tensor([[[[-0.3431, -0.2451, -0.2843,  ..., -0.2059, -0.1471, -0.0686],\n",
      "          [-0.2843, -0.2647, -0.3039,  ..., -0.2255, -0.2451, -0.1667],\n",
      "          [-0.2451, -0.3235, -0.3431,  ..., -0.2255, -0.2843, -0.2647],\n",
      "          ...,\n",
      "          [-0.3431, -0.3824, -0.4020,  ..., -0.1471, -0.0686, -0.1275],\n",
      "          [-0.3039, -0.3824, -0.4020,  ..., -0.1863, -0.0686, -0.1275],\n",
      "          [-0.3235, -0.3431, -0.4216,  ..., -0.1471, -0.1863, -0.1863]],\n",
      "\n",
      "         [[-1.3824, -1.3431, -1.4216,  ..., -1.3431, -1.3039, -1.2255],\n",
      "          [-1.3431, -1.3627, -1.4020,  ..., -1.3627, -1.4020, -1.3039],\n",
      "          [-1.3235, -1.3824, -1.4216,  ..., -1.3235, -1.3824, -1.3627],\n",
      "          ...,\n",
      "          [-1.4216, -1.5000, -1.5588,  ..., -1.2059, -1.1275, -1.2059],\n",
      "          [-1.4216, -1.5196, -1.5784,  ..., -1.2451, -1.1078, -1.1863],\n",
      "          [-1.4020, -1.4020, -1.5196,  ..., -1.2255, -1.2451, -1.2451]],\n",
      "\n",
      "         [[-0.1863, -0.2255, -0.3431,  ..., -0.1667, -0.1078, -0.0294],\n",
      "          [-0.1667, -0.2451, -0.3235,  ..., -0.1863, -0.2255, -0.1275],\n",
      "          [-0.1863, -0.2451, -0.2843,  ..., -0.1863, -0.2451, -0.2255],\n",
      "          ...,\n",
      "          [-0.2647, -0.4216, -0.5196,  ..., -0.0294,  0.0686, -0.0490],\n",
      "          [-0.3431, -0.4804, -0.5588,  ..., -0.0686,  0.0882, -0.0098],\n",
      "          [-0.3039, -0.3039, -0.4216,  ..., -0.0686, -0.0490, -0.0490]]],\n",
      "\n",
      "\n",
      "        [[[ 1.8333,  1.8137,  1.0098,  ...,  0.0882,  1.2647,  0.9706],\n",
      "          [ 1.9314,  1.8922,  1.2255,  ...,  0.2843,  0.9902,  1.3431],\n",
      "          [ 1.7941,  1.5000,  1.7745,  ...,  0.5588,  1.1863,  0.8137],\n",
      "          ...,\n",
      "          [ 1.1275,  1.4412,  1.7745,  ...,  1.0098,  0.4412,  0.6373],\n",
      "          [ 0.5784,  1.0686,  1.2451,  ...,  1.3824,  0.4412,  1.2059],\n",
      "          [ 1.1078,  2.0882,  2.0098,  ...,  1.9706,  1.3235,  1.9314]],\n",
      "\n",
      "         [[ 1.0686,  0.8922,  0.2255,  ..., -1.0882,  0.3235,  0.0490],\n",
      "          [ 1.1863,  1.0490,  0.5588,  ..., -0.7745,  0.0294,  0.4216],\n",
      "          [ 0.7941,  0.5392,  1.3039,  ..., -0.4216,  0.3235, -0.1667],\n",
      "          ...,\n",
      "          [ 0.0882,  0.5980,  1.1667,  ..., -0.2255, -0.7941, -0.4020],\n",
      "          [-0.4608,  0.2647,  0.3627,  ...,  0.5980, -0.8137,  0.3039],\n",
      "          [ 0.4216,  1.7157,  1.5392,  ...,  1.6569,  0.7549,  1.0882]],\n",
      "\n",
      "         [[ 1.6176,  1.5392,  0.9314,  ..., -0.0490,  1.0686,  0.8922],\n",
      "          [ 1.7157,  1.6176,  1.1667,  ...,  0.2059,  0.8725,  1.1667],\n",
      "          [ 1.4412,  1.2255,  1.7157,  ...,  0.4804,  1.0686,  0.6569],\n",
      "          ...,\n",
      "          [ 0.9706,  1.2843,  1.6765,  ...,  0.7549,  0.2647,  0.5196],\n",
      "          [ 0.4412,  1.0098,  1.1667,  ...,  1.2647,  0.2451,  1.0686],\n",
      "          [ 1.1078,  2.0294,  1.9314,  ...,  1.9510,  1.3431,  1.6569]]],\n",
      "\n",
      "\n",
      "        [[[ 1.0098,  0.8333,  0.6961,  ...,  1.0294,  0.8137,  1.4216],\n",
      "          [ 0.8333,  1.2255,  0.9510,  ...,  1.4804,  1.2255,  1.4020],\n",
      "          [ 0.7549,  0.9118,  1.1275,  ...,  1.5980,  1.3824,  1.2451],\n",
      "          ...,\n",
      "          [ 0.6961,  1.1275,  1.2843,  ...,  0.6569,  0.5588,  0.5392],\n",
      "          [ 0.4412,  0.8137,  1.3431,  ...,  0.5392,  0.4412,  0.4412],\n",
      "          [ 0.6373,  0.5980,  1.1471,  ...,  0.6569,  0.6373,  0.4608]],\n",
      "\n",
      "         [[-0.5784, -0.6176, -0.7549,  ..., -0.4608, -0.6569,  0.3824],\n",
      "          [-0.8333, -0.4412, -0.5980,  ...,  0.1275, -0.0686,  0.2255],\n",
      "          [-0.8922, -0.7157, -0.4020,  ...,  0.2451, -0.1471, -0.2647],\n",
      "          ...,\n",
      "          [-0.6569, -0.1471, -0.0098,  ..., -0.6961, -0.8137, -0.8333],\n",
      "          [-0.9118, -0.5392, -0.0490,  ..., -0.7745, -0.9118, -0.8333],\n",
      "          [-0.7353, -0.7157, -0.0294,  ..., -0.7157, -0.7549, -0.7745]],\n",
      "\n",
      "         [[ 0.4804,  0.4804,  0.3627,  ...,  0.5392,  0.3431,  1.1275],\n",
      "          [ 0.2647,  0.5784,  0.5000,  ...,  0.9706,  0.8137,  1.0490],\n",
      "          [ 0.2255,  0.3431,  0.6176,  ...,  1.0686,  0.7941,  0.6961],\n",
      "          ...,\n",
      "          [ 0.4608,  0.8333,  0.9314,  ...,  0.4216,  0.3235,  0.3039],\n",
      "          [ 0.2255,  0.5196,  0.8922,  ...,  0.3235,  0.2255,  0.2647],\n",
      "          [ 0.3824,  0.3627,  0.8529,  ...,  0.4020,  0.3627,  0.3039]]],\n",
      "\n",
      "\n",
      "        ...,\n",
      "\n",
      "\n",
      "        [[[ 0.1275,  0.8922,  0.8333,  ...,  1.3824,  1.8725,  1.1667],\n",
      "          [ 0.3039,  0.4608,  1.1471,  ...,  0.9118,  2.0686,  1.6765],\n",
      "          [ 0.6373,  0.7941,  1.6176,  ...,  0.2451,  1.1275, -0.1667],\n",
      "          ...,\n",
      "          [ 0.5196,  1.4608,  0.7941,  ...,  2.2059,  2.1863,  2.2647],\n",
      "          [ 1.3235,  1.1863,  0.2255,  ...,  1.8137,  2.2451,  2.2451],\n",
      "          [ 1.9902,  1.9706,  1.8529,  ...,  0.8725,  1.4216,  1.0490]],\n",
      "\n",
      "         [[-1.1863, -0.2843, -0.2451,  ...,  0.7745,  1.5784,  0.3824],\n",
      "          [-0.9902, -0.7353,  0.3039,  ..., -0.0686,  1.6961,  1.1275],\n",
      "          [-0.6569, -0.2647,  1.0882,  ..., -0.9118,  0.3627, -1.2451],\n",
      "          ...,\n",
      "          [-0.4216,  0.7941, -0.2843,  ...,  1.7745,  1.8137,  2.0490],\n",
      "          [ 0.5196,  0.4020, -0.8725,  ...,  1.0882,  1.9706,  2.0098],\n",
      "          [ 1.4412,  1.5000,  1.3824,  ..., -0.1471,  0.7157,  0.3431]],\n",
      "\n",
      "         [[-0.0490,  0.6961,  0.6961,  ...,  1.3431,  1.9118,  1.1471],\n",
      "          [ 0.1471,  0.3235,  1.0686,  ...,  0.7353,  1.9902,  1.6176],\n",
      "          [ 0.4020,  0.6765,  1.5588,  ...,  0.1078,  1.0686, -0.2255],\n",
      "          ...,\n",
      "          [ 0.5196,  1.4020,  0.6569,  ...,  2.0686,  2.0882,  2.2451],\n",
      "          [ 1.2647,  1.1275,  0.1863,  ...,  1.6373,  2.1863,  2.2059],\n",
      "          [ 1.8725,  1.9118,  1.8137,  ...,  0.6961,  1.3235,  1.0098]]],\n",
      "\n",
      "\n",
      "        [[[ 1.3627,  1.1471,  1.2843,  ..., -0.3431, -0.4020, -0.1667],\n",
      "          [ 1.7549,  1.3039,  1.2843,  ...,  0.6373,  0.0490, -0.2059],\n",
      "          [ 1.5392,  0.9902,  0.8725,  ...,  1.0686,  0.5980,  0.1863],\n",
      "          ...,\n",
      "          [-0.0490,  0.9118,  1.3824,  ...,  0.7157,  0.3235,  0.4216],\n",
      "          [ 0.1471,  0.8922,  1.1275,  ...,  0.2451, -0.0882,  0.5392],\n",
      "          [-0.0098,  0.4608,  0.6569,  ..., -0.0686, -0.0098,  1.0294]],\n",
      "\n",
      "         [[-0.0686, -0.2843, -0.2451,  ..., -1.4608, -1.5392, -1.4020],\n",
      "          [ 0.6176, -0.1471, -0.2843,  ..., -0.9314, -1.3431, -1.4804],\n",
      "          [ 0.3235, -0.4608, -0.6373,  ..., -0.5392, -0.9902, -1.2255],\n",
      "          ...,\n",
      "          [-1.3039, -0.6569, -0.1275,  ..., -0.5000, -0.7549, -0.6765],\n",
      "          [-1.2843, -0.7745, -0.4020,  ..., -1.0686, -1.2647, -0.6961],\n",
      "          [-1.3824, -1.1078, -0.8725,  ..., -1.3824, -1.2843, -0.3824]],\n",
      "\n",
      "         [[ 0.8529,  0.6961,  0.7353,  ..., -0.3627, -0.4412, -0.2647],\n",
      "          [ 1.3235,  0.7941,  0.6961,  ...,  0.1863, -0.2059, -0.3235],\n",
      "          [ 1.0882,  0.5392,  0.4020,  ...,  0.5000,  0.1078, -0.1078],\n",
      "          ...,\n",
      "          [-0.1863,  0.4020,  0.8529,  ...,  0.4804,  0.2843,  0.3431],\n",
      "          [-0.1471,  0.3039,  0.5980,  ...,  0.0098, -0.1863,  0.3039],\n",
      "          [-0.2451,  0.0098,  0.1863,  ..., -0.2843, -0.1667,  0.5980]]],\n",
      "\n",
      "\n",
      "        [[[ 1.7157,  1.7549,  1.7745,  ...,  1.5196,  1.6569,  1.3824],\n",
      "          [ 1.6373,  1.7549,  1.7353,  ...,  1.6569,  1.6569,  1.4216],\n",
      "          [ 1.7549,  1.6569,  1.6176,  ...,  1.3431,  0.9902,  1.1471],\n",
      "          ...,\n",
      "          [ 1.2843,  1.1667,  0.8922,  ...,  1.5196,  1.5784,  1.7157],\n",
      "          [ 1.4804,  1.5000,  1.4804,  ...,  1.4216,  1.3235,  1.5588],\n",
      "          [ 1.6569,  1.7157,  1.7353,  ...,  1.5000,  1.5588,  1.5784]],\n",
      "\n",
      "         [[ 0.3235,  0.4608,  0.4216,  ..., -0.1863, -0.0294, -0.3627],\n",
      "          [ 0.4020,  0.7353,  0.5588,  ...,  0.0882,  0.1275, -0.2059],\n",
      "          [ 0.2647,  0.1667,  0.1078,  ..., -0.1078, -0.4216, -0.3431],\n",
      "          ...,\n",
      "          [-0.2059, -0.3431, -0.6176,  ...,  0.2843,  0.3627,  0.7353],\n",
      "          [-0.2451, -0.2843, -0.3039,  ...,  0.1275,  0.0882,  0.5196],\n",
      "          [ 0.3824,  0.2647,  0.1471,  ...,  0.2843,  0.4020,  0.5784]],\n",
      "\n",
      "         [[ 1.3627,  1.4216,  1.3824,  ...,  1.0098,  1.0882,  0.8529],\n",
      "          [ 1.3824,  1.5588,  1.4804,  ...,  1.1863,  1.2059,  0.9706],\n",
      "          [ 1.3039,  1.2451,  1.1863,  ...,  1.0686,  0.8725,  0.9314],\n",
      "          ...,\n",
      "          [ 0.9118,  0.7941,  0.5980,  ...,  1.2843,  1.3235,  1.5588],\n",
      "          [ 0.8725,  0.8922,  0.8725,  ...,  1.1863,  1.1471,  1.4412],\n",
      "          [ 1.3235,  1.2843,  1.2255,  ...,  1.3039,  1.3627,  1.4608]]]]), tensor([[1],\n",
      "        [3],\n",
      "        [8],\n",
      "        [6],\n",
      "        [6],\n",
      "        [8],\n",
      "        [7],\n",
      "        [3],\n",
      "        [4],\n",
      "        [0],\n",
      "        [3],\n",
      "        [5],\n",
      "        [3],\n",
      "        [8],\n",
      "        [8],\n",
      "        [1],\n",
      "        [6],\n",
      "        [0],\n",
      "        [2],\n",
      "        [3],\n",
      "        [0],\n",
      "        [3],\n",
      "        [8],\n",
      "        [7],\n",
      "        [8],\n",
      "        [8],\n",
      "        [5],\n",
      "        [0],\n",
      "        [6],\n",
      "        [3],\n",
      "        [6],\n",
      "        [5]], dtype=torch.int32)]\n"
     ]
    }
   ],
   "execution_count": 5
  },
  {
   "metadata": {
    "ExecuteTime": {
     "end_time": "2025-02-13T07:25:43.462059Z",
     "start_time": "2025-02-13T07:25:43.448503Z"
    }
   },
   "cell_type": "code",
   "source": "print(n_channels, n_classes)",
   "id": "3ca302b76cb0789a",
   "outputs": [
    {
     "name": "stdout",
     "output_type": "stream",
     "text": [
      "3 9\n"
     ]
    }
   ],
   "execution_count": 6
  },
  {
   "metadata": {
    "ExecuteTime": {
     "end_time": "2025-02-13T07:25:45.300277Z",
     "start_time": "2025-02-13T07:25:45.284146Z"
    }
   },
   "cell_type": "code",
   "source": [
    "class PathNet(nn.Module):\n",
    "    def __init__(self, num_channels, num_classes):\n",
    "        super(PathNet, self).__init__()\n",
    "        self.conv1 = nn.Sequential(nn.Conv2d(in_channels=num_channels, out_channels=16, kernel_size=5),\n",
    "                                   nn.BatchNorm2d(16),\n",
    "                                   nn.ReLU())\n",
    "\n",
    "        self.conv2 = nn.Sequential(nn.Conv2d(in_channels=16, out_channels=32, kernel_size=5),\n",
    "                                   nn.BatchNorm2d(32),\n",
    "                                   nn.ReLU())\n",
    "\n",
    "        self.conv3 = nn.Sequential(nn.Conv2d(in_channels=32, out_channels=64, kernel_size=5),\n",
    "                                   nn.BatchNorm2d(64),\n",
    "                                   nn.ReLU())\n",
    "\n",
    "        self.conv4 = nn.Sequential(nn.Conv2d(in_channels=64, out_channels=64, kernel_size=3, padding=1),\n",
    "                                   nn.BatchNorm2d(64),\n",
    "                                   nn.ReLU())\n",
    "\n",
    "        self.pool = nn.MaxPool2d(kernel_size=2, stride=2)\n",
    "        self.dropout = nn.Dropout(0.2)\n",
    "\n",
    "        self.fc1 = nn.Sequential(nn.Linear(in_features=64 * 8 * 8, out_features=512), nn.ReLU())\n",
    "        self.fc2 = nn.Sequential(nn.Linear(in_features=512, out_features=128), nn.ReLU())\n",
    "        self.fc3 = nn.Linear(in_features=128, out_features=num_classes)\n",
    "\n",
    "    def forward(self, x):\n",
    "        x = self.conv1(x)\n",
    "        x = self.conv2(x)\n",
    "        x = self.conv3(x)\n",
    "        x = self.pool((self.conv4(x)))\n",
    "\n",
    "        x = x.view(-1, 64 * 8 * 8)\n",
    "        x = self.fc1(x)\n",
    "        x = self.dropout(x)\n",
    "        x = self.fc2(x)\n",
    "        x = self.fc3(x)\n",
    "        return x  # not applying softmax\n"
   ],
   "id": "d2f7d52a89fbcd57",
   "outputs": [],
   "execution_count": 7
  },
  {
   "metadata": {
    "ExecuteTime": {
     "end_time": "2025-02-13T07:25:50.049734Z",
     "start_time": "2025-02-13T07:25:49.825791Z"
    }
   },
   "cell_type": "code",
   "source": [
    "device = torch.device('cuda' if torch.cuda.is_available() else 'cpu')\n",
    "model = PathNet(n_channels, n_classes).to(device)\n",
    "criterion = nn.CrossEntropyLoss()"
   ],
   "id": "7857b91e9dfe2bd6",
   "outputs": [],
   "execution_count": 8
  },
  {
   "metadata": {
    "ExecuteTime": {
     "end_time": "2025-02-13T07:29:44.248019Z",
     "start_time": "2025-02-13T07:26:04.127731Z"
    }
   },
   "cell_type": "code",
   "source": [
    "num_epochs = 8\n",
    "learning_rate = 0.01\n",
    "optimizer = optim.Adam(model.parameters(), lr=learning_rate)\n",
    "\n",
    "total_steps = len(train_loader)\n",
    "losses = []\n",
    "for epoch in range(num_epochs):\n",
    "    if (epoch + 1) % 2 == 0:\n",
    "        learning_rate *= 0.5\n",
    "        optimizer = optim.Adam(model.parameters(), lr=learning_rate)\n",
    "\n",
    "    print('========= Epoch:', epoch + 1, \"===========\")\n",
    "    train_loss = 0\n",
    "    model.train()\n",
    "\n",
    "    for images, labels in tqdm(train_loader):\n",
    "        images = images.to(device)\n",
    "        labels = labels.view(-1).long().to(device)\n",
    "\n",
    "        outputs = model(images)\n",
    "        loss = criterion(outputs, labels)\n",
    "        train_loss += loss.item()\n",
    "\n",
    "        optimizer.zero_grad()\n",
    "        loss.backward()\n",
    "        optimizer.step()\n",
    "\n",
    "    train_loss /= len(train_loader)\n",
    "    losses.append(train_loss)\n",
    "\n",
    "    model.eval()  # disable batch norm & dropout\n",
    "    with torch.no_grad():\n",
    "        correct = 0\n",
    "        total = 0\n",
    "\n",
    "        for images, labels in val_loader:\n",
    "            images = images.to(device)\n",
    "            labels = labels.view(-1).to(device)\n",
    "            outputs = model(images)\n",
    "\n",
    "            predicted = torch.argmax(outputs, 1)\n",
    "            total += labels.size(0)\n",
    "            correct += torch.eq(predicted, labels).sum().item()\n",
    "\n",
    "    acc = correct / total\n",
    "    print(f'Accuracy: {100 * acc:.2f}%')\n",
    "    print(f\"Loss: {train_loss}\")\n",
    "\n",
    "print('Finished Training')"
   ],
   "id": "23704c4e9123018c",
   "outputs": [
    {
     "name": "stdout",
     "output_type": "stream",
     "text": [
      "========= Epoch: 1 ===========\n"
     ]
    },
    {
     "name": "stderr",
     "output_type": "stream",
     "text": [
      "100%|██████████| 2813/2813 [00:27<00:00, 103.00it/s]\n"
     ]
    },
    {
     "name": "stdout",
     "output_type": "stream",
     "text": [
      "Accuracy: 48.77%\n",
      "Loss: 1.3502479796514704\n",
      "========= Epoch: 2 ===========\n"
     ]
    },
    {
     "name": "stderr",
     "output_type": "stream",
     "text": [
      "100%|██████████| 2813/2813 [00:26<00:00, 106.77it/s]\n"
     ]
    },
    {
     "name": "stdout",
     "output_type": "stream",
     "text": [
      "Accuracy: 73.94%\n",
      "Loss: 0.9417217226796332\n",
      "========= Epoch: 3 ===========\n"
     ]
    },
    {
     "name": "stderr",
     "output_type": "stream",
     "text": [
      "100%|██████████| 2813/2813 [00:25<00:00, 110.35it/s]\n"
     ]
    },
    {
     "name": "stdout",
     "output_type": "stream",
     "text": [
      "Accuracy: 76.17%\n",
      "Loss: 0.7799696885857174\n",
      "========= Epoch: 4 ===========\n"
     ]
    },
    {
     "name": "stderr",
     "output_type": "stream",
     "text": [
      "100%|██████████| 2813/2813 [00:25<00:00, 111.54it/s]\n"
     ]
    },
    {
     "name": "stdout",
     "output_type": "stream",
     "text": [
      "Accuracy: 79.98%\n",
      "Loss: 0.645336241954974\n",
      "========= Epoch: 5 ===========\n"
     ]
    },
    {
     "name": "stderr",
     "output_type": "stream",
     "text": [
      "100%|██████████| 2813/2813 [00:25<00:00, 110.60it/s]\n"
     ]
    },
    {
     "name": "stdout",
     "output_type": "stream",
     "text": [
      "Accuracy: 84.31%\n",
      "Loss: 0.5872926968528925\n",
      "========= Epoch: 6 ===========\n"
     ]
    },
    {
     "name": "stderr",
     "output_type": "stream",
     "text": [
      "100%|██████████| 2813/2813 [00:25<00:00, 109.94it/s]\n"
     ]
    },
    {
     "name": "stdout",
     "output_type": "stream",
     "text": [
      "Accuracy: 85.98%\n",
      "Loss: 0.5111937356104301\n",
      "========= Epoch: 7 ===========\n"
     ]
    },
    {
     "name": "stderr",
     "output_type": "stream",
     "text": [
      "100%|██████████| 2813/2813 [00:25<00:00, 110.31it/s]\n"
     ]
    },
    {
     "name": "stdout",
     "output_type": "stream",
     "text": [
      "Accuracy: 85.51%\n",
      "Loss: 0.48295472876969664\n",
      "========= Epoch: 8 ===========\n"
     ]
    },
    {
     "name": "stderr",
     "output_type": "stream",
     "text": [
      "100%|██████████| 2813/2813 [00:25<00:00, 111.38it/s]\n"
     ]
    },
    {
     "name": "stdout",
     "output_type": "stream",
     "text": [
      "Accuracy: 86.99%\n",
      "Loss: 0.44838304554403274\n",
      "Finished Training\n"
     ]
    }
   ],
   "execution_count": 9
  },
  {
   "metadata": {
    "ExecuteTime": {
     "end_time": "2025-02-13T07:29:50.689807Z",
     "start_time": "2025-02-13T07:29:49.134008Z"
    }
   },
   "cell_type": "code",
   "source": [
    "import matplotlib.pyplot as plt\n",
    "\n",
    "plt.plot(range(1, num_epochs + 1), losses)\n",
    "plt.title('Training Loss vs Epochs')\n",
    "plt.xlabel('Epoch')\n",
    "plt.ylabel('Loss')\n",
    "plt.show()"
   ],
   "id": "c8ab3739eef2f57e",
   "outputs": [
    {
     "data": {
      "text/plain": [
       "<Figure size 640x480 with 1 Axes>"
      ],
      "image/png": "[encoded data removed]"
     },
     "metadata": {},
     "output_type": "display_data"
    }
   ],
   "execution_count": 10
  },
  {
   "metadata": {
    "ExecuteTime": {
     "end_time": "2025-02-13T07:30:02.986934Z",
     "start_time": "2025-02-13T07:30:01.156975Z"
    }
   },
   "cell_type": "code",
   "source": [
    "with torch.no_grad():\n",
    "    model.eval()\n",
    "    correct = 0\n",
    "    total = 0\n",
    "\n",
    "    for images, labels in test_loader:\n",
    "        images = images.to(device)\n",
    "        labels = labels.view(-1).to(device)\n",
    "        outputs = model(images)\n",
    "\n",
    "        predicted = torch.argmax(outputs, 1)\n",
    "        total += labels.size(0)\n",
    "        correct += torch.eq(predicted, labels).sum().item()\n",
    "\n",
    "    acc = correct / total\n",
    "    print(f'Accuracy: {100 * acc:.2f}%')"
   ],
   "id": "50ef9c954a4084e5",
   "outputs": [
    {
     "name": "stdout",
     "output_type": "stream",
     "text": [
      "Accuracy: 77.49%\n"
     ]
    }
   ],
   "execution_count": 11
  },
  {
   "metadata": {
    "ExecuteTime": {
     "end_time": "2025-02-13T07:30:06.540079Z",
     "start_time": "2025-02-13T07:30:06.508460Z"
    }
   },
   "cell_type": "code",
   "source": "torch.save(model.state_dict(), 'trained_model.pth')",
   "id": "85283612f1680a92",
   "outputs": [],
   "execution_count": 12
  }
 ],
 "metadata": {
  "kernelspec": {
   "display_name": "Python 3",
   "language": "python",
   "name": "python3"
  },
  "language_info": {
   "codemirror_mode": {
    "name": "ipython",
    "version": 2
   },
   "file_extension": ".py",
   "mimetype": "text/x-python",
   "name": "python",
   "nbconvert_exporter": "python",
   "pygments_lexer": "ipython2",
   "version": "2.7.6"
  }
 },
 "nbformat": 4,
 "nbformat_minor": 5
}
