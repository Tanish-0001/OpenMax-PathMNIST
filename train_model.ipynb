{
 "cells": [
  {
   "cell_type": "code",
   "id": "initial_id",
   "metadata": {
    "collapsed": true,
    "ExecuteTime": {
     "end_time": "2025-04-17T04:49:01.546246Z",
     "start_time": "2025-04-17T04:48:38.070203Z"
    }
   },
   "source": [
    "from tqdm import tqdm\n",
    "import torch\n",
    "import torch.nn as nn\n",
    "import torch.optim as optim\n",
    "import torch.utils.data as data\n",
    "import torchvision.transforms as transforms\n",
    "\n",
    "from medmnist import PathMNIST\n",
    "from medmnist import INFO"
   ],
   "outputs": [],
   "execution_count": 1
  },
  {
   "metadata": {
    "ExecuteTime": {
     "end_time": "2025-04-17T04:49:04.373132Z",
     "start_time": "2025-04-17T04:49:02.986816Z"
    }
   },
   "cell_type": "code",
   "source": [
    "data_transform = transforms.Compose([\n",
    "    transforms.ToTensor(),\n",
    "    transforms.Normalize(mean=[.5], std=[.2])\n",
    "])\n",
    "\n",
    "train_dataset = PathMNIST(split='train', download=True, transform=data_transform)\n",
    "val_dataset = PathMNIST(split='val', download=False, transform=data_transform)\n",
    "test_dataset = PathMNIST(split='test', download=False, transform=data_transform)"
   ],
   "id": "f0a024cb7c11cc52",
   "outputs": [
    {
     "name": "stdout",
     "output_type": "stream",
     "text": [
      "Using downloaded and verified file: C:\\Users\\jaint\\.medmnist\\pathmnist.npz\n"
     ]
    }
   ],
   "execution_count": 2
  },
  {
   "metadata": {
    "ExecuteTime": {
     "end_time": "2025-04-17T04:49:11.272958Z",
     "start_time": "2025-04-17T04:49:11.268666Z"
    }
   },
   "cell_type": "code",
   "source": [
    "info = INFO['pathmnist']  # get some metadata of PathMNIST\n",
    "\n",
    "batch_size = 32\n",
    "n_channels, n_classes = info['n_channels'], len(info['label'])"
   ],
   "id": "5b06ad2fdcf3730b",
   "outputs": [],
   "execution_count": 3
  },
  {
   "metadata": {
    "ExecuteTime": {
     "end_time": "2025-04-17T04:49:13.181744Z",
     "start_time": "2025-04-17T04:49:13.167712Z"
    }
   },
   "cell_type": "code",
   "source": [
    "train_loader = data.DataLoader(dataset=train_dataset, batch_size=batch_size, shuffle=True)\n",
    "val_loader = data.DataLoader(dataset=val_dataset, batch_size=2*batch_size, shuffle=False)\n",
    "test_loader = data.DataLoader(dataset=test_dataset, batch_size=2*batch_size, shuffle=False)"
   ],
   "id": "bd918c65858e0741",
   "outputs": [],
   "execution_count": 4
  },
  {
   "metadata": {
    "ExecuteTime": {
     "end_time": "2025-04-17T04:49:17.318670Z",
     "start_time": "2025-04-17T04:49:17.196392Z"
    }
   },
   "cell_type": "code",
   "source": "print(next(iter(train_loader)))",
   "id": "ea05539e225c49da",
   "outputs": [
    {
     "name": "stdout",
     "output_type": "stream",
     "text": [
      "[tensor([[[[ 1.3824,  0.8137,  1.1275,  ...,  0.8529,  0.9314,  1.7549],\n",
      "          [ 1.2647,  1.0294,  1.1863,  ...,  0.4804,  1.0294,  2.0098],\n",
      "          [ 1.7745,  1.6373,  0.7157,  ...,  1.2059,  1.5392,  1.2647],\n",
      "          ...,\n",
      "          [ 1.0294,  1.1078,  0.6373,  ...,  0.5392,  0.3431,  0.7549],\n",
      "          [ 0.8333,  0.7549,  0.5980,  ...,  0.3039,  0.5980,  0.3039],\n",
      "          [ 0.8137,  0.4216,  0.4608,  ...,  0.4412,  0.8725,  1.2843]],\n",
      "\n",
      "         [[ 0.6569, -0.0882,  0.2451,  ..., -0.1275,  0.0294,  1.1275],\n",
      "          [ 0.3039,  0.0490,  0.1471,  ..., -0.6176,  0.0686,  1.4412],\n",
      "          [ 0.9314,  0.8333, -0.3627,  ...,  0.1863,  0.5000,  0.2255],\n",
      "          ...,\n",
      "          [-0.0490,  0.2059, -0.3824,  ..., -0.5980, -0.8529, -0.1863],\n",
      "          [-0.1078, -0.2059, -0.5000,  ..., -0.8333, -0.3824, -0.7157],\n",
      "          [-0.2059, -0.7157, -0.5196,  ..., -0.6765, -0.0490,  0.4020]],\n",
      "\n",
      "         [[ 1.3235,  0.7549,  1.0098,  ...,  0.7745,  0.8333,  1.6569],\n",
      "          [ 1.1275,  0.9118,  0.9510,  ...,  0.4020,  0.8725,  1.8333],\n",
      "          [ 1.5196,  1.4608,  0.5980,  ...,  0.9902,  1.1863,  0.9902],\n",
      "          ...,\n",
      "          [ 0.8333,  0.9706,  0.5588,  ...,  0.4020,  0.2059,  0.6373],\n",
      "          [ 0.7745,  0.6569,  0.4804,  ...,  0.2255,  0.5392,  0.2647],\n",
      "          [ 0.7353,  0.3235,  0.4412,  ...,  0.4020,  0.7941,  1.1471]]],\n",
      "\n",
      "\n",
      "        [[[ 1.5196,  1.1078,  1.5196,  ...,  1.7745,  1.5980,  0.7745],\n",
      "          [ 1.7745,  1.2843,  1.7353,  ...,  1.0686,  1.1863,  1.2843],\n",
      "          [ 0.9902,  1.3627,  1.0490,  ...,  1.3235,  1.1078,  1.1078],\n",
      "          ...,\n",
      "          [ 1.3431,  1.3824,  0.9706,  ...,  1.2059,  0.6373,  0.2255],\n",
      "          [ 0.8333,  1.7745,  1.5588,  ...,  1.3627,  0.7157,  1.1275],\n",
      "          [ 0.7941,  1.6569,  1.1078,  ...,  0.9510,  0.7941,  1.5980]],\n",
      "\n",
      "         [[ 0.5784,  0.0294,  0.5980,  ...,  0.8922,  0.7353, -0.3431],\n",
      "          [ 0.9902,  0.3039,  1.0882,  ..., -0.0490,  0.1471,  0.3431],\n",
      "          [ 0.1275,  0.5000,  0.1667,  ...,  0.3039,  0.1275,  0.1667],\n",
      "          ...,\n",
      "          [ 0.3627,  0.5196, -0.0294,  ...,  0.1863, -0.4608, -0.8725],\n",
      "          [-0.2059,  0.9902,  0.6569,  ...,  0.4804, -0.2255,  0.1667],\n",
      "          [-0.2647,  0.8137,  0.1863,  ..., -0.1275, -0.2255,  0.7941]],\n",
      "\n",
      "         [[ 1.2647,  0.8922,  1.2843,  ...,  1.4804,  1.3627,  0.5980],\n",
      "          [ 1.5392,  1.0882,  1.5784,  ...,  0.8333,  0.9706,  1.0882],\n",
      "          [ 0.9118,  1.1863,  0.9314,  ...,  1.0882,  0.9510,  0.9902],\n",
      "          ...,\n",
      "          [ 1.1078,  1.2059,  0.8333,  ...,  1.0098,  0.5392,  0.1863],\n",
      "          [ 0.6961,  1.5392,  1.3235,  ...,  1.1863,  0.6373,  0.9706],\n",
      "          [ 0.6373,  1.4020,  0.9510,  ...,  0.7745,  0.6765,  1.4020]]],\n",
      "\n",
      "\n",
      "        [[[ 1.4020,  1.2843,  0.9118,  ...,  1.3824,  1.4216,  1.4216],\n",
      "          [ 0.9510,  0.7549,  1.2059,  ...,  1.4020,  1.4216,  1.5588],\n",
      "          [ 0.5588,  0.6569,  0.7157,  ...,  1.8333,  1.2451,  1.2255],\n",
      "          ...,\n",
      "          [ 1.4412,  1.5784,  1.5000,  ...,  0.6176,  1.2059,  1.3235],\n",
      "          [ 1.2451,  1.1471,  0.6765,  ...,  1.4608,  1.4608,  1.4412],\n",
      "          [ 1.4608,  1.3627,  0.9902,  ...,  1.4804,  1.5196,  1.5000]],\n",
      "\n",
      "         [[ 0.3039,  0.1471, -0.2647,  ...,  0.2647,  0.2059,  0.1275],\n",
      "          [-0.2059, -0.4216,  0.1078,  ...,  0.0882,  0.2255,  0.1863],\n",
      "          [-0.5392, -0.3824, -0.3235,  ..., -0.0294, -0.1275, -0.2255],\n",
      "          ...,\n",
      "          [ 0.2843,  0.4412,  0.3824,  ..., -0.5588,  0.1078,  0.2451],\n",
      "          [ 0.0686, -0.0686, -0.4608,  ...,  0.3627,  0.3627,  0.3431],\n",
      "          [ 0.3431,  0.2843, -0.1078,  ...,  0.3627,  0.3824,  0.3431]],\n",
      "\n",
      "         [[ 1.1471,  1.0490,  0.7353,  ...,  1.1471,  1.1078,  1.0490],\n",
      "          [ 0.7745,  0.5784,  0.9902,  ...,  0.9902,  1.1078,  1.0882],\n",
      "          [ 0.4804,  0.5980,  0.6373,  ...,  0.8725,  0.8137,  0.7353],\n",
      "          ...,\n",
      "          [ 1.1078,  1.2255,  1.2059,  ...,  0.4608,  0.9902,  1.1078],\n",
      "          [ 0.9706,  0.8529,  0.5196,  ...,  1.1863,  1.2059,  1.1863],\n",
      "          [ 1.1863,  1.1275,  0.8137,  ...,  1.2059,  1.2255,  1.1863]]],\n",
      "\n",
      "\n",
      "        ...,\n",
      "\n",
      "\n",
      "        [[[ 0.8922,  0.6961,  0.8137,  ..., -0.0098, -0.0882,  0.7745],\n",
      "          [ 0.8725,  0.9902,  0.9510,  ...,  0.2059,  0.2647,  1.1275],\n",
      "          [ 0.9118,  0.3824,  0.6176,  ...,  0.8529,  1.0686,  0.8922],\n",
      "          ...,\n",
      "          [ 0.7941,  0.9902,  1.3235,  ...,  1.1078,  0.8137,  0.9706],\n",
      "          [ 0.6569,  0.8725,  1.0882,  ...,  0.6373,  0.6765,  1.2451],\n",
      "          [ 0.9510,  0.8922,  0.9510,  ...,  1.0098,  1.3039,  1.5000]],\n",
      "\n",
      "         [[-0.2647, -0.5392, -0.2647,  ..., -1.4020, -1.4020, -0.4020],\n",
      "          [-0.2843, -0.2451, -0.1667,  ..., -1.1275, -1.1078, -0.0882],\n",
      "          [-0.2451, -0.7941, -0.5196,  ..., -0.4216, -0.0882, -0.3039],\n",
      "          ...,\n",
      "          [-0.3235, -0.1275,  0.3039,  ..., -0.0294, -0.3431, -0.2451],\n",
      "          [-0.4804, -0.2451,  0.0098,  ..., -0.6176, -0.5196, -0.0098],\n",
      "          [-0.1275, -0.1863, -0.1471,  ..., -0.2059,  0.1078,  0.2647]],\n",
      "\n",
      "         [[ 0.7549,  0.5392,  0.7353,  ..., -0.2647, -0.3235,  0.6373],\n",
      "          [ 0.7745,  0.7549,  0.8137,  ...,  0.0294,  0.0294,  0.8922],\n",
      "          [ 0.7745,  0.2843,  0.5392,  ...,  0.6373,  0.8725,  0.7353],\n",
      "          ...,\n",
      "          [ 0.6961,  0.8529,  1.1667,  ...,  0.9118,  0.6765,  0.7549],\n",
      "          [ 0.5588,  0.7353,  0.9510,  ...,  0.4804,  0.5392,  0.9510],\n",
      "          [ 0.8333,  0.7745,  0.8137,  ...,  0.8137,  1.0490,  1.1667]]],\n",
      "\n",
      "\n",
      "        [[[ 0.7745,  1.5784,  1.2647,  ...,  1.4412,  1.2451,  1.3824],\n",
      "          [ 1.3235,  1.4804,  0.8137,  ...,  1.1667,  1.2843,  1.3039],\n",
      "          [ 1.0686,  1.0490,  0.8137,  ...,  1.3235,  1.4412,  1.4608],\n",
      "          ...,\n",
      "          [ 1.4216,  1.2451,  1.3431,  ...,  1.4412,  0.9510,  0.6961],\n",
      "          [ 1.4804,  0.6176,  0.6765,  ...,  1.1863,  1.5000,  1.0686],\n",
      "          [ 1.4020,  0.7157,  0.8137,  ...,  1.3824,  1.3235,  0.5980]],\n",
      "\n",
      "         [[-0.3824,  0.1275, -0.0686,  ..., -0.2647, -0.3039, -0.1078],\n",
      "          [-0.1275, -0.0490, -0.4804,  ..., -0.4020, -0.2255, -0.1471],\n",
      "          [-0.2647, -0.3627, -0.5000,  ..., -0.2843, -0.0686,  0.0098],\n",
      "          ...,\n",
      "          [ 0.0686, -0.2255, -0.0294,  ..., -0.2255, -0.4216, -0.5784],\n",
      "          [ 0.1863, -0.5784, -0.5000,  ..., -0.3824, -0.0098, -0.3235],\n",
      "          [-0.1471, -0.5392, -0.2843,  ..., -0.2255, -0.2059, -0.6569]],\n",
      "\n",
      "         [[ 0.7157,  1.0882,  0.8725,  ...,  0.7941,  0.7549,  0.8725],\n",
      "          [ 0.9314,  0.9706,  0.5980,  ...,  0.6765,  0.8333,  0.8725],\n",
      "          [ 0.7353,  0.6961,  0.5784,  ...,  0.7745,  0.9510,  1.0294],\n",
      "          ...,\n",
      "          [ 0.9902,  0.7941,  0.9510,  ...,  0.8137,  0.6765,  0.5196],\n",
      "          [ 1.0882,  0.5196,  0.5784,  ...,  0.6765,  0.9902,  0.7157],\n",
      "          [ 0.8529,  0.5784,  0.7157,  ...,  0.8137,  0.8137,  0.4608]]],\n",
      "\n",
      "\n",
      "        [[[ 1.1667,  1.1667,  1.2059,  ...,  1.0294,  1.0098,  1.0098],\n",
      "          [ 1.0294,  1.1275,  1.1863,  ...,  1.0686,  1.0686,  1.0686],\n",
      "          [ 1.0098,  1.0490,  1.0686,  ...,  1.1078,  1.1275,  1.0882],\n",
      "          ...,\n",
      "          [ 1.3039,  1.3039,  1.2843,  ...,  1.2843,  1.2843,  1.2647],\n",
      "          [ 1.3431,  1.3431,  1.2647,  ...,  1.2843,  1.2843,  1.2647],\n",
      "          [ 1.3431,  1.3627,  1.2843,  ...,  1.3431,  1.2647,  1.2059]],\n",
      "\n",
      "         [[ 0.2255,  0.2451,  0.3235,  ...,  0.2451,  0.2059,  0.2255],\n",
      "          [ 0.1667,  0.3039,  0.3627,  ...,  0.3235,  0.3235,  0.3039],\n",
      "          [ 0.2059,  0.2647,  0.2647,  ...,  0.4020,  0.4216,  0.3431],\n",
      "          ...,\n",
      "          [ 0.6765,  0.6765,  0.6569,  ...,  0.6569,  0.6569,  0.6176],\n",
      "          [ 0.7549,  0.7353,  0.6373,  ...,  0.6373,  0.6373,  0.5980],\n",
      "          [ 0.7549,  0.7549,  0.6373,  ...,  0.7353,  0.6176,  0.5392]],\n",
      "\n",
      "         [[ 1.0686,  1.1078,  1.1471,  ...,  1.1471,  1.1078,  1.1275],\n",
      "          [ 1.0686,  1.1667,  1.1863,  ...,  1.2059,  1.2059,  1.1863],\n",
      "          [ 1.1275,  1.1471,  1.1275,  ...,  1.2451,  1.2647,  1.2255],\n",
      "          ...,\n",
      "          [ 1.4412,  1.4412,  1.4216,  ...,  1.4216,  1.4216,  1.4020],\n",
      "          [ 1.4804,  1.4804,  1.4020,  ...,  1.4020,  1.4216,  1.4020],\n",
      "          [ 1.4804,  1.4804,  1.4020,  ...,  1.4804,  1.4020,  1.3431]]]]), tensor([[3],\n",
      "        [3],\n",
      "        [8],\n",
      "        [5],\n",
      "        [8],\n",
      "        [8],\n",
      "        [6],\n",
      "        [8],\n",
      "        [7],\n",
      "        [4],\n",
      "        [1],\n",
      "        [4],\n",
      "        [1],\n",
      "        [5],\n",
      "        [3],\n",
      "        [5],\n",
      "        [2],\n",
      "        [5],\n",
      "        [7],\n",
      "        [8],\n",
      "        [8],\n",
      "        [7],\n",
      "        [3],\n",
      "        [8],\n",
      "        [7],\n",
      "        [6],\n",
      "        [0],\n",
      "        [5],\n",
      "        [8],\n",
      "        [8],\n",
      "        [2],\n",
      "        [1]], dtype=torch.int32)]\n"
     ]
    }
   ],
   "execution_count": 5
  },
  {
   "metadata": {
    "ExecuteTime": {
     "end_time": "2025-04-17T04:49:20.037567Z",
     "start_time": "2025-04-17T04:49:20.026874Z"
    }
   },
   "cell_type": "code",
   "source": "print(n_channels, n_classes)",
   "id": "3ca302b76cb0789a",
   "outputs": [
    {
     "name": "stdout",
     "output_type": "stream",
     "text": [
      "3 9\n"
     ]
    }
   ],
   "execution_count": 6
  },
  {
   "metadata": {
    "ExecuteTime": {
     "end_time": "2025-04-17T04:49:21.542946Z",
     "start_time": "2025-04-17T04:49:21.530217Z"
    }
   },
   "cell_type": "code",
   "source": [
    "class PathNet(nn.Module):\n",
    "    def __init__(self, num_channels, num_classes):\n",
    "        super(PathNet, self).__init__()\n",
    "        self.conv1 = nn.Sequential(nn.Conv2d(in_channels=num_channels, out_channels=16, kernel_size=5),\n",
    "                                   nn.BatchNorm2d(16),\n",
    "                                   nn.ReLU())\n",
    "\n",
    "        self.conv2 = nn.Sequential(nn.Conv2d(in_channels=16, out_channels=32, kernel_size=5),\n",
    "                                   nn.BatchNorm2d(32),\n",
    "                                   nn.ReLU())\n",
    "\n",
    "        self.conv3 = nn.Sequential(nn.Conv2d(in_channels=32, out_channels=64, kernel_size=5),\n",
    "                                   nn.BatchNorm2d(64),\n",
    "                                   nn.ReLU())\n",
    "\n",
    "        self.conv4 = nn.Sequential(nn.Conv2d(in_channels=64, out_channels=64, kernel_size=3, padding=1),\n",
    "                                   nn.BatchNorm2d(64),\n",
    "                                   nn.ReLU())\n",
    "\n",
    "        self.pool = nn.MaxPool2d(kernel_size=2, stride=2)\n",
    "\n",
    "        self.fc1 = nn.Sequential(nn.Linear(in_features=64 * 8 * 8, out_features=512),\n",
    "                                 nn.ReLU(),\n",
    "                                 nn.Dropout(0.2))\n",
    "        self.fc2 = nn.Sequential(nn.Linear(in_features=512, out_features=128),\n",
    "                                 nn.ReLU(),\n",
    "                                 nn.Dropout(0.2))\n",
    "        self.fc3 = nn.Linear(in_features=128, out_features=num_classes)\n",
    "\n",
    "    def forward(self, x):\n",
    "        x = self.conv1(x)\n",
    "        x = self.conv2(x)\n",
    "        x = self.conv3(x)\n",
    "        x = self.pool((self.conv4(x)))\n",
    "\n",
    "        x = x.view(-1, 64 * 8 * 8)\n",
    "        x = self.fc1(x)\n",
    "        x = self.fc2(x)\n",
    "        x = self.fc3(x)\n",
    "        return x  # not applying softmax\n"
   ],
   "id": "d2f7d52a89fbcd57",
   "outputs": [],
   "execution_count": 7
  },
  {
   "metadata": {
    "ExecuteTime": {
     "end_time": "2025-04-17T05:07:39.621353Z",
     "start_time": "2025-04-17T05:07:39.591775Z"
    }
   },
   "cell_type": "code",
   "source": [
    "device = torch.device('cuda' if torch.cuda.is_available() else 'cpu')\n",
    "model = PathNet(n_channels, n_classes).to(device)\n",
    "criterion = nn.CrossEntropyLoss()"
   ],
   "id": "7857b91e9dfe2bd6",
   "outputs": [],
   "execution_count": 30
  },
  {
   "metadata": {
    "ExecuteTime": {
     "end_time": "2025-04-17T05:07:40.011378Z",
     "start_time": "2025-04-17T05:07:39.997666Z"
    }
   },
   "cell_type": "code",
   "source": [
    "num_epochs = 10\n",
    "learning_rate = 0.01\n",
    "optimizer = optim.Adam(model.parameters(), lr=learning_rate)\n",
    "scheduler = optim.lr_scheduler.StepLR(optimizer, step_size=2, gamma=0.5)"
   ],
   "id": "e4bed44cc79fd61c",
   "outputs": [],
   "execution_count": 31
  },
  {
   "metadata": {
    "ExecuteTime": {
     "end_time": "2025-04-17T05:12:16.713092Z",
     "start_time": "2025-04-17T05:07:40.521150Z"
    }
   },
   "cell_type": "code",
   "source": [
    "losses = []\n",
    "val_accuracies = []\n",
    "\n",
    "for epoch in range(num_epochs):\n",
    "\n",
    "    loop = tqdm(train_loader, desc=f\"Epoch {epoch + 1}/{num_epochs}\")\n",
    "    train_loss = 0.\n",
    "\n",
    "    model.train()\n",
    "    for images, labels in loop:\n",
    "        images = images.to(device)\n",
    "        labels = labels.view(-1).long().to(device)\n",
    "\n",
    "        outputs = model(images)\n",
    "        loss = criterion(outputs, labels)\n",
    "        train_loss += loss.item()\n",
    "\n",
    "        optimizer.zero_grad()\n",
    "        loss.backward()\n",
    "        optimizer.step()\n",
    "\n",
    "    train_loss /= len(train_loader)\n",
    "    losses.append(train_loss)\n",
    "\n",
    "    model.eval()  # disable batch norm & dropout\n",
    "    with torch.no_grad():\n",
    "        correct = 0\n",
    "        total = 0\n",
    "\n",
    "        for images, labels in val_loader:\n",
    "            images = images.to(device)\n",
    "            labels = labels.view(-1).to(device)\n",
    "            outputs = model(images)\n",
    "\n",
    "            predicted = torch.argmax(outputs, 1)\n",
    "            total += labels.size(0)\n",
    "            correct += torch.eq(predicted, labels).sum().item()\n",
    "\n",
    "    acc = correct / total\n",
    "    val_accuracies.append(acc)\n",
    "    scheduler.step()"
   ],
   "id": "23704c4e9123018c",
   "outputs": [
    {
     "name": "stderr",
     "output_type": "stream",
     "text": [
      "Epoch 1/10: 100%|██████████| 2813/2813 [00:25<00:00, 109.52it/s]\n",
      "Epoch 2/10: 100%|██████████| 2813/2813 [00:29<00:00, 96.65it/s] \n",
      "Epoch 3/10: 100%|██████████| 2813/2813 [00:25<00:00, 109.97it/s]\n",
      "Epoch 4/10: 100%|██████████| 2813/2813 [00:25<00:00, 111.14it/s]\n",
      "Epoch 5/10: 100%|██████████| 2813/2813 [00:25<00:00, 110.70it/s]\n",
      "Epoch 6/10: 100%|██████████| 2813/2813 [00:25<00:00, 110.80it/s]\n",
      "Epoch 7/10: 100%|██████████| 2813/2813 [00:25<00:00, 111.12it/s]\n",
      "Epoch 8/10: 100%|██████████| 2813/2813 [00:25<00:00, 111.08it/s]\n",
      "Epoch 9/10: 100%|██████████| 2813/2813 [00:25<00:00, 111.12it/s]\n",
      "Epoch 10/10: 100%|██████████| 2813/2813 [00:25<00:00, 110.77it/s]\n"
     ]
    }
   ],
   "execution_count": 32
  },
  {
   "metadata": {
    "ExecuteTime": {
     "end_time": "2025-04-17T05:12:20.457997Z",
     "start_time": "2025-04-17T05:12:20.256358Z"
    }
   },
   "cell_type": "code",
   "source": [
    "import matplotlib.pyplot as plt\n",
    "\n",
    "fig, axes = plt.subplots(1, 2)\n",
    "\n",
    "axes[0].plot(range(1, num_epochs + 1), losses)\n",
    "axes[0].set_title('Training Loss')\n",
    "axes[0].set_xlabel('Epoch')\n",
    "axes[0].set_ylabel('Loss')\n",
    "\n",
    "axes[1].plot(range(1, num_epochs + 1), val_accuracies)\n",
    "axes[1].set_title('Validation Accuracy')\n",
    "axes[1].set_xlabel('Epoch')\n",
    "axes[1].set_ylabel('Accuracy')\n",
    "\n",
    "plt.show()"
   ],
   "id": "c8ab3739eef2f57e",
   "outputs": [
    {
     "data": {
      "text/plain": [
       "<Figure size 640x480 with 2 Axes>"
      ],
      "image/png": "[encoded data removed]"
     },
     "metadata": {},
     "output_type": "display_data"
    }
   ],
   "execution_count": 33
  },
  {
   "metadata": {
    "ExecuteTime": {
     "end_time": "2025-04-17T05:12:30.222498Z",
     "start_time": "2025-04-17T05:12:28.324114Z"
    }
   },
   "cell_type": "code",
   "source": [
    "model.eval()\n",
    "with torch.no_grad():\n",
    "    correct = 0\n",
    "    total = 0\n",
    "\n",
    "    for images, labels in test_loader:\n",
    "        images = images.to(device)\n",
    "        labels = labels.view(-1).to(device)\n",
    "        outputs = model(images)\n",
    "\n",
    "        predicted = torch.argmax(outputs, 1)\n",
    "        total += labels.size(0)\n",
    "        correct += torch.eq(predicted, labels).sum().item()\n",
    "\n",
    "    acc = correct / total\n",
    "    print(f'Accuracy: {100 * acc:.2f}%')"
   ],
   "id": "50ef9c954a4084e5",
   "outputs": [
    {
     "name": "stdout",
     "output_type": "stream",
     "text": [
      "Accuracy: 79.22%\n"
     ]
    }
   ],
   "execution_count": 34
  },
  {
   "metadata": {
    "ExecuteTime": {
     "end_time": "2025-04-17T05:13:14.564612Z",
     "start_time": "2025-04-17T05:13:14.503622Z"
    }
   },
   "cell_type": "code",
   "source": "torch.save(model.state_dict(), 'trained_model.pth')",
   "id": "85283612f1680a92",
   "outputs": [],
   "execution_count": 35
  }
 ],
 "metadata": {
  "kernelspec": {
   "display_name": "Python 3",
   "language": "python",
   "name": "python3"
  },
  "language_info": {
   "codemirror_mode": {
    "name": "ipython",
    "version": 2
   },
   "file_extension": ".py",
   "mimetype": "text/x-python",
   "name": "python",
   "nbconvert_exporter": "python",
   "pygments_lexer": "ipython2",
   "version": "2.7.6"
  }
 },
 "nbformat": 4,
 "nbformat_minor": 5
}
